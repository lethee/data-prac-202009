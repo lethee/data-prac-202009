{
 "cells": [
  {
   "cell_type": "code",
   "execution_count": null,
   "metadata": {},
   "outputs": [],
   "source": [
    "import urllib\n",
    "import json\n",
    "api_key = 'xxx'"
   ]
  },
  {
   "cell_type": "code",
   "execution_count": null,
   "metadata": {},
   "outputs": [],
   "source": [
    "import pandas as pd\n",
    "\n",
    "df = pd.read_csv('corp_code.csv', dtype=str)\n",
    "print(len(df))\n",
    "df = df[df['corp_name'].str.contains(\"LG\")]\n",
    "df"
   ]
  },
  {
   "cell_type": "code",
   "execution_count": null,
   "metadata": {},
   "outputs": [],
   "source": [
    "# 단일회사 주요계정\n",
    "\n",
    "account_step2_df = pd.DataFrame(columns=[\"corp_name\", \"corp_code\", \"bsns_year\", \"reprt_code\", \"data\"])\n",
    "\n",
    "for index, row in df.iterrows():\n",
    "    for bsns_year in range(2020, 2014, -1):\n",
    "        for reprt_code in ['11011', '11012']:\n",
    "            api_url = 'https://opendart.fss.or.kr/api/fnlttSinglAcnt.json'\n",
    "            api_url = api_url + '?' + 'crtfc_key={}'.format(api_key)\n",
    "            api_url = api_url + '&' + 'corp_code={}'.format(row[\"corp_code\"])\n",
    "            api_url = api_url + '&' + 'bsns_year={}'.format(bsns_year)\n",
    "            api_url = api_url + '&' + 'reprt_code={}'.format(reprt_code)\n",
    "\n",
    "            response = urllib.request.urlopen(api_url)\n",
    "            data = response.read().decode('UTF-8')\n",
    "            new_row = {\n",
    "                \"corp_name\": row[\"corp_name\"],\n",
    "                \"corp_code\": row[\"corp_code\"],\n",
    "                \"bsns_year\": bsns_year,\n",
    "                \"reprt_code\": reprt_code,\n",
    "                \"data\": data,\n",
    "            }\n",
    "            account_step2_df = account_step2_df.append(new_row, ignore_index=True)\n",
    "\n",
    "account_step2_df.to_csv('account_step2_df.csv', index=False)\n",
    "account_step2_df"
   ]
  },
  {
   "cell_type": "code",
   "execution_count": null,
   "metadata": {},
   "outputs": [],
   "source": []
  }
 ],
 "metadata": {
  "kernelspec": {
   "display_name": "Python 3",
   "language": "python",
   "name": "python3"
  },
  "language_info": {
   "codemirror_mode": {
    "name": "ipython",
    "version": 3
   },
   "file_extension": ".py",
   "mimetype": "text/x-python",
   "name": "python",
   "nbconvert_exporter": "python",
   "pygments_lexer": "ipython3",
   "version": "3.6.5"
  }
 },
 "nbformat": 4,
 "nbformat_minor": 2
}
