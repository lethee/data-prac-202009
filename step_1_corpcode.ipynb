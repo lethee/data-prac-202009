{
 "cells": [
  {
   "cell_type": "code",
   "execution_count": 6,
   "metadata": {},
   "outputs": [],
   "source": [
    "import urllib"
   ]
  },
  {
   "cell_type": "code",
   "execution_count": 2,
   "metadata": {},
   "outputs": [
    {
     "name": "stdout",
     "output_type": "stream",
     "text": [
      "downloading...\n",
      "done\n"
     ]
    }
   ],
   "source": [
    "api_key = 'xxx'\n",
    "\n",
    "# 공시정보 zip 파일 다운로드\n",
    "api_url = 'https://opendart.fss.or.kr/api/corpCode.xml'\n",
    "api_url = api_url + '?' + 'crtfc_key={}'.format(api_key)\n",
    "\n",
    "print('downloading...')\n",
    "urllib.request.urlretrieve(api_url, filename='corpCode.zip') # jupyter lab 노트파일과 같은 디렉토리\n",
    "print('done')"
   ]
  },
  {
   "cell_type": "code",
   "execution_count": 3,
   "metadata": {},
   "outputs": [
    {
     "name": "stdout",
     "output_type": "stream",
     "text": [
      "['CORPCODE.xml']\n"
     ]
    }
   ],
   "source": [
    "# zip 파일 압축풀기\n",
    "import zipfile\n",
    "fantasy_zip = zipfile.ZipFile('corpCode.zip') # 위에서 다운받은 파일 이름\n",
    "print(fantasy_zip.namelist())                 # 압축 파일 속 파일 이름 확인\n",
    "fantasy_zip.extractall('.')                   # jupyter lab 노트파일과 같은 디렉토리에 압축 풀기\n",
    "fantasy_zip.close()"
   ]
  },
  {
   "cell_type": "code",
   "execution_count": 9,
   "metadata": {},
   "outputs": [
    {
     "name": "stdout",
     "output_type": "stream",
     "text": [
      "open file from CORPCODE.xml ...\n",
      "done\n",
      "filter & save file to corp_code.csv\n",
      "done\n"
     ]
    },
    {
     "data": {
      "text/html": [
       "<div>\n",
       "<style scoped>\n",
       "    .dataframe tbody tr th:only-of-type {\n",
       "        vertical-align: middle;\n",
       "    }\n",
       "\n",
       "    .dataframe tbody tr th {\n",
       "        vertical-align: top;\n",
       "    }\n",
       "\n",
       "    .dataframe thead th {\n",
       "        text-align: right;\n",
       "    }\n",
       "</style>\n",
       "<table border=\"1\" class=\"dataframe\">\n",
       "  <thead>\n",
       "    <tr style=\"text-align: right;\">\n",
       "      <th></th>\n",
       "      <th>corp_code</th>\n",
       "      <th>corp_name</th>\n",
       "      <th>stock_code</th>\n",
       "    </tr>\n",
       "  </thead>\n",
       "  <tbody>\n",
       "    <tr>\n",
       "      <th>0</th>\n",
       "      <td>00260985</td>\n",
       "      <td>한빛네트</td>\n",
       "      <td>036720</td>\n",
       "    </tr>\n",
       "  </tbody>\n",
       "</table>\n",
       "</div>"
      ],
      "text/plain": [
       "  corp_code corp_name stock_code\n",
       "0  00260985      한빛네트     036720"
      ]
     },
     "execution_count": 9,
     "metadata": {},
     "output_type": "execute_result"
    }
   ],
   "source": [
    "import xml.etree.ElementTree as ET\n",
    "import pandas as pd\n",
    "\n",
    "df = pd.DataFrame(columns=[\"corp_code\", \"corp_name\", \"stock_code\"])\n",
    "\n",
    "print(\"open file from CORPCODE.xml ...\")\n",
    "tree = ET.parse('CORPCODE.xml')               # XML 파일을 xml.etree.ElementTree 라이브러리 사용하여 읽기\n",
    "root = tree.getroot()                         #\n",
    "print(\"done\")\n",
    "\n",
    "print(\"filter & save file to corp_code.csv\")\n",
    "all_list_elmenets = root.findall('.//list') # 나중에 설명\n",
    "for list_element in all_list_elmenets:      # 나중에 설명\n",
    "    corp_code = list_element.find('./corp_code').text.strip()   # 나중에 설명\n",
    "    corp_name = list_element.find('./corp_name').text.strip()   # 나중에 설명\n",
    "    stock_code = list_element.find('./stock_code').text.strip() # 나중에 설명\n",
    "    if stock_code:\n",
    "        df = df.append({\"corp_code\": corp_code, \"corp_name\": corp_name, \"stock_code\": stock_code}, ignore_index=True)\n",
    "\n",
    "df.to_csv(\"corp_code.csv\", index=False)\n",
    "print('done')\n",
    "df[:1]"
   ]
  },
  {
   "cell_type": "code",
   "execution_count": null,
   "metadata": {},
   "outputs": [],
   "source": []
  }
 ],
 "metadata": {
  "kernelspec": {
   "display_name": "Python 3",
   "language": "python",
   "name": "python3"
  },
  "language_info": {
   "codemirror_mode": {
    "name": "ipython",
    "version": 3
   },
   "file_extension": ".py",
   "mimetype": "text/x-python",
   "name": "python",
   "nbconvert_exporter": "python",
   "pygments_lexer": "ipython3",
   "version": "3.6.5"
  }
 },
 "nbformat": 4,
 "nbformat_minor": 2
}
